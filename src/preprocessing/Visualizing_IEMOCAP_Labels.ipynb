{
 "cells": [
  {
   "cell_type": "markdown",
   "metadata": {},
   "source": [
    "Visualizing IEMOCAP Data Balance\n",
    "===\n",
    "This notebook tries to get a basic overview of the IEMOCAP dataset in terms of the data balance and distribution"
   ]
  },
  {
   "cell_type": "code",
   "execution_count": 1,
   "metadata": {},
   "outputs": [],
   "source": [
    "import numpy as np\n",
    "import pandas as pd\n",
    "import matplotlib.pyplot as plt\n",
    "import seaborn as sns"
   ]
  },
  {
   "cell_type": "code",
   "execution_count": 42,
   "metadata": {},
   "outputs": [
    {
     "data": {
      "text/html": [
       "<div>\n",
       "<style scoped>\n",
       "    .dataframe tbody tr th:only-of-type {\n",
       "        vertical-align: middle;\n",
       "    }\n",
       "\n",
       "    .dataframe tbody tr th {\n",
       "        vertical-align: top;\n",
       "    }\n",
       "\n",
       "    .dataframe thead th {\n",
       "        text-align: right;\n",
       "    }\n",
       "</style>\n",
       "<table border=\"1\" class=\"dataframe\">\n",
       "  <thead>\n",
       "    <tr style=\"text-align: right;\">\n",
       "      <th></th>\n",
       "      <th>file</th>\n",
       "      <th>emotion</th>\n",
       "      <th>valence</th>\n",
       "      <th>activation</th>\n",
       "      <th>dominance</th>\n",
       "    </tr>\n",
       "  </thead>\n",
       "  <tbody>\n",
       "    <tr>\n",
       "      <th>0</th>\n",
       "      <td>/scratch/speech/IEMOCAP_full_release/Session1/...</td>\n",
       "      <td>neu</td>\n",
       "      <td>2.5</td>\n",
       "      <td>2.5</td>\n",
       "      <td>2.5</td>\n",
       "    </tr>\n",
       "    <tr>\n",
       "      <th>1</th>\n",
       "      <td>/scratch/speech/IEMOCAP_full_release/Session1/...</td>\n",
       "      <td>neu</td>\n",
       "      <td>2.5</td>\n",
       "      <td>2.5</td>\n",
       "      <td>2.5</td>\n",
       "    </tr>\n",
       "    <tr>\n",
       "      <th>2</th>\n",
       "      <td>/scratch/speech/IEMOCAP_full_release/Session1/...</td>\n",
       "      <td>neu</td>\n",
       "      <td>2.5</td>\n",
       "      <td>2.5</td>\n",
       "      <td>2.5</td>\n",
       "    </tr>\n",
       "    <tr>\n",
       "      <th>3</th>\n",
       "      <td>/scratch/speech/IEMOCAP_full_release/Session1/...</td>\n",
       "      <td>xxx</td>\n",
       "      <td>2.5</td>\n",
       "      <td>3.0</td>\n",
       "      <td>3.0</td>\n",
       "    </tr>\n",
       "    <tr>\n",
       "      <th>4</th>\n",
       "      <td>/scratch/speech/IEMOCAP_full_release/Session1/...</td>\n",
       "      <td>xxx</td>\n",
       "      <td>2.5</td>\n",
       "      <td>3.0</td>\n",
       "      <td>2.5</td>\n",
       "    </tr>\n",
       "    <tr>\n",
       "      <th>5</th>\n",
       "      <td>/scratch/speech/IEMOCAP_full_release/Session1/...</td>\n",
       "      <td>neu</td>\n",
       "      <td>2.5</td>\n",
       "      <td>3.5</td>\n",
       "      <td>2.0</td>\n",
       "    </tr>\n",
       "    <tr>\n",
       "      <th>6</th>\n",
       "      <td>/scratch/speech/IEMOCAP_full_release/Session1/...</td>\n",
       "      <td>fru</td>\n",
       "      <td>2.0</td>\n",
       "      <td>3.5</td>\n",
       "      <td>3.5</td>\n",
       "    </tr>\n",
       "    <tr>\n",
       "      <th>7</th>\n",
       "      <td>/scratch/speech/IEMOCAP_full_release/Session1/...</td>\n",
       "      <td>fru</td>\n",
       "      <td>2.5</td>\n",
       "      <td>3.5</td>\n",
       "      <td>3.5</td>\n",
       "    </tr>\n",
       "    <tr>\n",
       "      <th>8</th>\n",
       "      <td>/scratch/speech/IEMOCAP_full_release/Session1/...</td>\n",
       "      <td>fru</td>\n",
       "      <td>2.0</td>\n",
       "      <td>3.5</td>\n",
       "      <td>3.5</td>\n",
       "    </tr>\n",
       "    <tr>\n",
       "      <th>9</th>\n",
       "      <td>/scratch/speech/IEMOCAP_full_release/Session1/...</td>\n",
       "      <td>fru</td>\n",
       "      <td>2.0</td>\n",
       "      <td>3.5</td>\n",
       "      <td>3.0</td>\n",
       "    </tr>\n",
       "    <tr>\n",
       "      <th>10</th>\n",
       "      <td>/scratch/speech/IEMOCAP_full_release/Session1/...</td>\n",
       "      <td>xxx</td>\n",
       "      <td>1.5</td>\n",
       "      <td>3.5</td>\n",
       "      <td>3.5</td>\n",
       "    </tr>\n",
       "    <tr>\n",
       "      <th>11</th>\n",
       "      <td>/scratch/speech/IEMOCAP_full_release/Session1/...</td>\n",
       "      <td>fru</td>\n",
       "      <td>2.0</td>\n",
       "      <td>3.5</td>\n",
       "      <td>3.5</td>\n",
       "    </tr>\n",
       "    <tr>\n",
       "      <th>12</th>\n",
       "      <td>/scratch/speech/IEMOCAP_full_release/Session1/...</td>\n",
       "      <td>ang</td>\n",
       "      <td>2.0</td>\n",
       "      <td>3.5</td>\n",
       "      <td>3.5</td>\n",
       "    </tr>\n",
       "    <tr>\n",
       "      <th>13</th>\n",
       "      <td>/scratch/speech/IEMOCAP_full_release/Session1/...</td>\n",
       "      <td>fru</td>\n",
       "      <td>2.0</td>\n",
       "      <td>4.0</td>\n",
       "      <td>3.5</td>\n",
       "    </tr>\n",
       "    <tr>\n",
       "      <th>14</th>\n",
       "      <td>/scratch/speech/IEMOCAP_full_release/Session1/...</td>\n",
       "      <td>neu</td>\n",
       "      <td>2.5</td>\n",
       "      <td>3.5</td>\n",
       "      <td>3.5</td>\n",
       "    </tr>\n",
       "    <tr>\n",
       "      <th>15</th>\n",
       "      <td>/scratch/speech/IEMOCAP_full_release/Session1/...</td>\n",
       "      <td>fru</td>\n",
       "      <td>2.0</td>\n",
       "      <td>3.5</td>\n",
       "      <td>3.0</td>\n",
       "    </tr>\n",
       "    <tr>\n",
       "      <th>16</th>\n",
       "      <td>/scratch/speech/IEMOCAP_full_release/Session1/...</td>\n",
       "      <td>fru</td>\n",
       "      <td>2.5</td>\n",
       "      <td>2.0</td>\n",
       "      <td>2.5</td>\n",
       "    </tr>\n",
       "    <tr>\n",
       "      <th>17</th>\n",
       "      <td>/scratch/speech/IEMOCAP_full_release/Session1/...</td>\n",
       "      <td>fru</td>\n",
       "      <td>2.5</td>\n",
       "      <td>2.0</td>\n",
       "      <td>2.5</td>\n",
       "    </tr>\n",
       "    <tr>\n",
       "      <th>18</th>\n",
       "      <td>/scratch/speech/IEMOCAP_full_release/Session1/...</td>\n",
       "      <td>fru</td>\n",
       "      <td>2.0</td>\n",
       "      <td>3.5</td>\n",
       "      <td>3.5</td>\n",
       "    </tr>\n",
       "    <tr>\n",
       "      <th>19</th>\n",
       "      <td>/scratch/speech/IEMOCAP_full_release/Session1/...</td>\n",
       "      <td>fru</td>\n",
       "      <td>2.5</td>\n",
       "      <td>3.5</td>\n",
       "      <td>3.5</td>\n",
       "    </tr>\n",
       "    <tr>\n",
       "      <th>20</th>\n",
       "      <td>/scratch/speech/IEMOCAP_full_release/Session1/...</td>\n",
       "      <td>fru</td>\n",
       "      <td>2.0</td>\n",
       "      <td>4.0</td>\n",
       "      <td>3.5</td>\n",
       "    </tr>\n",
       "    <tr>\n",
       "      <th>21</th>\n",
       "      <td>/scratch/speech/IEMOCAP_full_release/Session1/...</td>\n",
       "      <td>fru</td>\n",
       "      <td>2.0</td>\n",
       "      <td>3.5</td>\n",
       "      <td>3.5</td>\n",
       "    </tr>\n",
       "    <tr>\n",
       "      <th>22</th>\n",
       "      <td>/scratch/speech/IEMOCAP_full_release/Session1/...</td>\n",
       "      <td>fru</td>\n",
       "      <td>2.0</td>\n",
       "      <td>3.5</td>\n",
       "      <td>3.5</td>\n",
       "    </tr>\n",
       "    <tr>\n",
       "      <th>23</th>\n",
       "      <td>/scratch/speech/IEMOCAP_full_release/Session1/...</td>\n",
       "      <td>fru</td>\n",
       "      <td>2.5</td>\n",
       "      <td>3.5</td>\n",
       "      <td>3.0</td>\n",
       "    </tr>\n",
       "    <tr>\n",
       "      <th>24</th>\n",
       "      <td>/scratch/speech/IEMOCAP_full_release/Session1/...</td>\n",
       "      <td>fru</td>\n",
       "      <td>2.0</td>\n",
       "      <td>3.5</td>\n",
       "      <td>3.5</td>\n",
       "    </tr>\n",
       "    <tr>\n",
       "      <th>25</th>\n",
       "      <td>/scratch/speech/IEMOCAP_full_release/Session1/...</td>\n",
       "      <td>fru</td>\n",
       "      <td>2.5</td>\n",
       "      <td>3.5</td>\n",
       "      <td>4.0</td>\n",
       "    </tr>\n",
       "    <tr>\n",
       "      <th>26</th>\n",
       "      <td>/scratch/speech/IEMOCAP_full_release/Session1/...</td>\n",
       "      <td>fru</td>\n",
       "      <td>2.0</td>\n",
       "      <td>4.5</td>\n",
       "      <td>4.0</td>\n",
       "    </tr>\n",
       "    <tr>\n",
       "      <th>27</th>\n",
       "      <td>/scratch/speech/IEMOCAP_full_release/Session1/...</td>\n",
       "      <td>ang</td>\n",
       "      <td>2.0</td>\n",
       "      <td>4.0</td>\n",
       "      <td>4.0</td>\n",
       "    </tr>\n",
       "    <tr>\n",
       "      <th>28</th>\n",
       "      <td>/scratch/speech/IEMOCAP_full_release/Session1/...</td>\n",
       "      <td>xxx</td>\n",
       "      <td>3.0</td>\n",
       "      <td>1.5</td>\n",
       "      <td>2.0</td>\n",
       "    </tr>\n",
       "    <tr>\n",
       "      <th>29</th>\n",
       "      <td>/scratch/speech/IEMOCAP_full_release/Session1/...</td>\n",
       "      <td>ang</td>\n",
       "      <td>2.0</td>\n",
       "      <td>4.5</td>\n",
       "      <td>4.5</td>\n",
       "    </tr>\n",
       "    <tr>\n",
       "      <th>...</th>\n",
       "      <td>...</td>\n",
       "      <td>...</td>\n",
       "      <td>...</td>\n",
       "      <td>...</td>\n",
       "      <td>...</td>\n",
       "    </tr>\n",
       "    <tr>\n",
       "      <th>10009</th>\n",
       "      <td>/scratch/speech/IEMOCAP_full_release/Session5/...</td>\n",
       "      <td>ang</td>\n",
       "      <td>2.0</td>\n",
       "      <td>3.5</td>\n",
       "      <td>4.5</td>\n",
       "    </tr>\n",
       "    <tr>\n",
       "      <th>10010</th>\n",
       "      <td>/scratch/speech/IEMOCAP_full_release/Session5/...</td>\n",
       "      <td>xxx</td>\n",
       "      <td>3.0</td>\n",
       "      <td>3.5</td>\n",
       "      <td>3.0</td>\n",
       "    </tr>\n",
       "    <tr>\n",
       "      <th>10011</th>\n",
       "      <td>/scratch/speech/IEMOCAP_full_release/Session5/...</td>\n",
       "      <td>ang</td>\n",
       "      <td>2.5</td>\n",
       "      <td>3.5</td>\n",
       "      <td>3.5</td>\n",
       "    </tr>\n",
       "    <tr>\n",
       "      <th>10012</th>\n",
       "      <td>/scratch/speech/IEMOCAP_full_release/Session5/...</td>\n",
       "      <td>xxx</td>\n",
       "      <td>3.5</td>\n",
       "      <td>3.5</td>\n",
       "      <td>3.5</td>\n",
       "    </tr>\n",
       "    <tr>\n",
       "      <th>10013</th>\n",
       "      <td>/scratch/speech/IEMOCAP_full_release/Session5/...</td>\n",
       "      <td>fru</td>\n",
       "      <td>4.0</td>\n",
       "      <td>3.0</td>\n",
       "      <td>3.5</td>\n",
       "    </tr>\n",
       "    <tr>\n",
       "      <th>10014</th>\n",
       "      <td>/scratch/speech/IEMOCAP_full_release/Session5/...</td>\n",
       "      <td>ang</td>\n",
       "      <td>2.0</td>\n",
       "      <td>3.5</td>\n",
       "      <td>4.5</td>\n",
       "    </tr>\n",
       "    <tr>\n",
       "      <th>10015</th>\n",
       "      <td>/scratch/speech/IEMOCAP_full_release/Session5/...</td>\n",
       "      <td>xxx</td>\n",
       "      <td>2.0</td>\n",
       "      <td>3.5</td>\n",
       "      <td>4.0</td>\n",
       "    </tr>\n",
       "    <tr>\n",
       "      <th>10016</th>\n",
       "      <td>/scratch/speech/IEMOCAP_full_release/Session5/...</td>\n",
       "      <td>xxx</td>\n",
       "      <td>2.0</td>\n",
       "      <td>3.5</td>\n",
       "      <td>4.5</td>\n",
       "    </tr>\n",
       "    <tr>\n",
       "      <th>10017</th>\n",
       "      <td>/scratch/speech/IEMOCAP_full_release/Session5/...</td>\n",
       "      <td>ang</td>\n",
       "      <td>1.5</td>\n",
       "      <td>3.0</td>\n",
       "      <td>5.0</td>\n",
       "    </tr>\n",
       "    <tr>\n",
       "      <th>10018</th>\n",
       "      <td>/scratch/speech/IEMOCAP_full_release/Session5/...</td>\n",
       "      <td>fru</td>\n",
       "      <td>2.5</td>\n",
       "      <td>3.0</td>\n",
       "      <td>3.0</td>\n",
       "    </tr>\n",
       "    <tr>\n",
       "      <th>10019</th>\n",
       "      <td>/scratch/speech/IEMOCAP_full_release/Session5/...</td>\n",
       "      <td>ang</td>\n",
       "      <td>1.5</td>\n",
       "      <td>3.5</td>\n",
       "      <td>4.0</td>\n",
       "    </tr>\n",
       "    <tr>\n",
       "      <th>10020</th>\n",
       "      <td>/scratch/speech/IEMOCAP_full_release/Session5/...</td>\n",
       "      <td>ang</td>\n",
       "      <td>2.0</td>\n",
       "      <td>3.5</td>\n",
       "      <td>4.0</td>\n",
       "    </tr>\n",
       "    <tr>\n",
       "      <th>10021</th>\n",
       "      <td>/scratch/speech/IEMOCAP_full_release/Session5/...</td>\n",
       "      <td>ang</td>\n",
       "      <td>2.0</td>\n",
       "      <td>4.5</td>\n",
       "      <td>4.5</td>\n",
       "    </tr>\n",
       "    <tr>\n",
       "      <th>10022</th>\n",
       "      <td>/scratch/speech/IEMOCAP_full_release/Session5/...</td>\n",
       "      <td>xxx</td>\n",
       "      <td>2.0</td>\n",
       "      <td>3.5</td>\n",
       "      <td>3.5</td>\n",
       "    </tr>\n",
       "    <tr>\n",
       "      <th>10023</th>\n",
       "      <td>/scratch/speech/IEMOCAP_full_release/Session5/...</td>\n",
       "      <td>xxx</td>\n",
       "      <td>2.0</td>\n",
       "      <td>4.5</td>\n",
       "      <td>4.5</td>\n",
       "    </tr>\n",
       "    <tr>\n",
       "      <th>10024</th>\n",
       "      <td>/scratch/speech/IEMOCAP_full_release/Session5/...</td>\n",
       "      <td>xxx</td>\n",
       "      <td>1.5</td>\n",
       "      <td>4.0</td>\n",
       "      <td>4.5</td>\n",
       "    </tr>\n",
       "    <tr>\n",
       "      <th>10025</th>\n",
       "      <td>/scratch/speech/IEMOCAP_full_release/Session5/...</td>\n",
       "      <td>fru</td>\n",
       "      <td>2.0</td>\n",
       "      <td>5.0</td>\n",
       "      <td>4.5</td>\n",
       "    </tr>\n",
       "    <tr>\n",
       "      <th>10026</th>\n",
       "      <td>/scratch/speech/IEMOCAP_full_release/Session5/...</td>\n",
       "      <td>xxx</td>\n",
       "      <td>1.5</td>\n",
       "      <td>3.5</td>\n",
       "      <td>4.5</td>\n",
       "    </tr>\n",
       "    <tr>\n",
       "      <th>10027</th>\n",
       "      <td>/scratch/speech/IEMOCAP_full_release/Session5/...</td>\n",
       "      <td>fru</td>\n",
       "      <td>2.0</td>\n",
       "      <td>3.0</td>\n",
       "      <td>4.5</td>\n",
       "    </tr>\n",
       "    <tr>\n",
       "      <th>10028</th>\n",
       "      <td>/scratch/speech/IEMOCAP_full_release/Session5/...</td>\n",
       "      <td>xxx</td>\n",
       "      <td>2.5</td>\n",
       "      <td>3.0</td>\n",
       "      <td>3.5</td>\n",
       "    </tr>\n",
       "    <tr>\n",
       "      <th>10029</th>\n",
       "      <td>/scratch/speech/IEMOCAP_full_release/Session5/...</td>\n",
       "      <td>xxx</td>\n",
       "      <td>3.0</td>\n",
       "      <td>3.0</td>\n",
       "      <td>3.5</td>\n",
       "    </tr>\n",
       "    <tr>\n",
       "      <th>10030</th>\n",
       "      <td>/scratch/speech/IEMOCAP_full_release/Session5/...</td>\n",
       "      <td>xxx</td>\n",
       "      <td>2.0</td>\n",
       "      <td>3.5</td>\n",
       "      <td>4.0</td>\n",
       "    </tr>\n",
       "    <tr>\n",
       "      <th>10031</th>\n",
       "      <td>/scratch/speech/IEMOCAP_full_release/Session5/...</td>\n",
       "      <td>xxx</td>\n",
       "      <td>2.0</td>\n",
       "      <td>2.5</td>\n",
       "      <td>3.5</td>\n",
       "    </tr>\n",
       "    <tr>\n",
       "      <th>10032</th>\n",
       "      <td>/scratch/speech/IEMOCAP_full_release/Session5/...</td>\n",
       "      <td>ang</td>\n",
       "      <td>1.5</td>\n",
       "      <td>4.0</td>\n",
       "      <td>4.5</td>\n",
       "    </tr>\n",
       "    <tr>\n",
       "      <th>10033</th>\n",
       "      <td>/scratch/speech/IEMOCAP_full_release/Session5/...</td>\n",
       "      <td>ang</td>\n",
       "      <td>1.5</td>\n",
       "      <td>4.0</td>\n",
       "      <td>4.5</td>\n",
       "    </tr>\n",
       "    <tr>\n",
       "      <th>10034</th>\n",
       "      <td>/scratch/speech/IEMOCAP_full_release/Session5/...</td>\n",
       "      <td>ang</td>\n",
       "      <td>2.0</td>\n",
       "      <td>3.5</td>\n",
       "      <td>4.0</td>\n",
       "    </tr>\n",
       "    <tr>\n",
       "      <th>10035</th>\n",
       "      <td>/scratch/speech/IEMOCAP_full_release/Session5/...</td>\n",
       "      <td>ang</td>\n",
       "      <td>1.5</td>\n",
       "      <td>4.5</td>\n",
       "      <td>4.0</td>\n",
       "    </tr>\n",
       "    <tr>\n",
       "      <th>10036</th>\n",
       "      <td>/scratch/speech/IEMOCAP_full_release/Session5/...</td>\n",
       "      <td>ang</td>\n",
       "      <td>2.5</td>\n",
       "      <td>4.0</td>\n",
       "      <td>4.0</td>\n",
       "    </tr>\n",
       "    <tr>\n",
       "      <th>10037</th>\n",
       "      <td>/scratch/speech/IEMOCAP_full_release/Session5/...</td>\n",
       "      <td>ang</td>\n",
       "      <td>2.0</td>\n",
       "      <td>4.0</td>\n",
       "      <td>4.5</td>\n",
       "    </tr>\n",
       "    <tr>\n",
       "      <th>10038</th>\n",
       "      <td>/scratch/speech/IEMOCAP_full_release/Session5/...</td>\n",
       "      <td>ang</td>\n",
       "      <td>1.0</td>\n",
       "      <td>4.5</td>\n",
       "      <td>5.0</td>\n",
       "    </tr>\n",
       "  </tbody>\n",
       "</table>\n",
       "<p>10039 rows × 5 columns</p>\n",
       "</div>"
      ],
      "text/plain": [
       "                                                    file emotion  valence  \\\n",
       "0      /scratch/speech/IEMOCAP_full_release/Session1/...     neu      2.5   \n",
       "1      /scratch/speech/IEMOCAP_full_release/Session1/...     neu      2.5   \n",
       "2      /scratch/speech/IEMOCAP_full_release/Session1/...     neu      2.5   \n",
       "3      /scratch/speech/IEMOCAP_full_release/Session1/...     xxx      2.5   \n",
       "4      /scratch/speech/IEMOCAP_full_release/Session1/...     xxx      2.5   \n",
       "5      /scratch/speech/IEMOCAP_full_release/Session1/...     neu      2.5   \n",
       "6      /scratch/speech/IEMOCAP_full_release/Session1/...     fru      2.0   \n",
       "7      /scratch/speech/IEMOCAP_full_release/Session1/...     fru      2.5   \n",
       "8      /scratch/speech/IEMOCAP_full_release/Session1/...     fru      2.0   \n",
       "9      /scratch/speech/IEMOCAP_full_release/Session1/...     fru      2.0   \n",
       "10     /scratch/speech/IEMOCAP_full_release/Session1/...     xxx      1.5   \n",
       "11     /scratch/speech/IEMOCAP_full_release/Session1/...     fru      2.0   \n",
       "12     /scratch/speech/IEMOCAP_full_release/Session1/...     ang      2.0   \n",
       "13     /scratch/speech/IEMOCAP_full_release/Session1/...     fru      2.0   \n",
       "14     /scratch/speech/IEMOCAP_full_release/Session1/...     neu      2.5   \n",
       "15     /scratch/speech/IEMOCAP_full_release/Session1/...     fru      2.0   \n",
       "16     /scratch/speech/IEMOCAP_full_release/Session1/...     fru      2.5   \n",
       "17     /scratch/speech/IEMOCAP_full_release/Session1/...     fru      2.5   \n",
       "18     /scratch/speech/IEMOCAP_full_release/Session1/...     fru      2.0   \n",
       "19     /scratch/speech/IEMOCAP_full_release/Session1/...     fru      2.5   \n",
       "20     /scratch/speech/IEMOCAP_full_release/Session1/...     fru      2.0   \n",
       "21     /scratch/speech/IEMOCAP_full_release/Session1/...     fru      2.0   \n",
       "22     /scratch/speech/IEMOCAP_full_release/Session1/...     fru      2.0   \n",
       "23     /scratch/speech/IEMOCAP_full_release/Session1/...     fru      2.5   \n",
       "24     /scratch/speech/IEMOCAP_full_release/Session1/...     fru      2.0   \n",
       "25     /scratch/speech/IEMOCAP_full_release/Session1/...     fru      2.5   \n",
       "26     /scratch/speech/IEMOCAP_full_release/Session1/...     fru      2.0   \n",
       "27     /scratch/speech/IEMOCAP_full_release/Session1/...     ang      2.0   \n",
       "28     /scratch/speech/IEMOCAP_full_release/Session1/...     xxx      3.0   \n",
       "29     /scratch/speech/IEMOCAP_full_release/Session1/...     ang      2.0   \n",
       "...                                                  ...     ...      ...   \n",
       "10009  /scratch/speech/IEMOCAP_full_release/Session5/...     ang      2.0   \n",
       "10010  /scratch/speech/IEMOCAP_full_release/Session5/...     xxx      3.0   \n",
       "10011  /scratch/speech/IEMOCAP_full_release/Session5/...     ang      2.5   \n",
       "10012  /scratch/speech/IEMOCAP_full_release/Session5/...     xxx      3.5   \n",
       "10013  /scratch/speech/IEMOCAP_full_release/Session5/...     fru      4.0   \n",
       "10014  /scratch/speech/IEMOCAP_full_release/Session5/...     ang      2.0   \n",
       "10015  /scratch/speech/IEMOCAP_full_release/Session5/...     xxx      2.0   \n",
       "10016  /scratch/speech/IEMOCAP_full_release/Session5/...     xxx      2.0   \n",
       "10017  /scratch/speech/IEMOCAP_full_release/Session5/...     ang      1.5   \n",
       "10018  /scratch/speech/IEMOCAP_full_release/Session5/...     fru      2.5   \n",
       "10019  /scratch/speech/IEMOCAP_full_release/Session5/...     ang      1.5   \n",
       "10020  /scratch/speech/IEMOCAP_full_release/Session5/...     ang      2.0   \n",
       "10021  /scratch/speech/IEMOCAP_full_release/Session5/...     ang      2.0   \n",
       "10022  /scratch/speech/IEMOCAP_full_release/Session5/...     xxx      2.0   \n",
       "10023  /scratch/speech/IEMOCAP_full_release/Session5/...     xxx      2.0   \n",
       "10024  /scratch/speech/IEMOCAP_full_release/Session5/...     xxx      1.5   \n",
       "10025  /scratch/speech/IEMOCAP_full_release/Session5/...     fru      2.0   \n",
       "10026  /scratch/speech/IEMOCAP_full_release/Session5/...     xxx      1.5   \n",
       "10027  /scratch/speech/IEMOCAP_full_release/Session5/...     fru      2.0   \n",
       "10028  /scratch/speech/IEMOCAP_full_release/Session5/...     xxx      2.5   \n",
       "10029  /scratch/speech/IEMOCAP_full_release/Session5/...     xxx      3.0   \n",
       "10030  /scratch/speech/IEMOCAP_full_release/Session5/...     xxx      2.0   \n",
       "10031  /scratch/speech/IEMOCAP_full_release/Session5/...     xxx      2.0   \n",
       "10032  /scratch/speech/IEMOCAP_full_release/Session5/...     ang      1.5   \n",
       "10033  /scratch/speech/IEMOCAP_full_release/Session5/...     ang      1.5   \n",
       "10034  /scratch/speech/IEMOCAP_full_release/Session5/...     ang      2.0   \n",
       "10035  /scratch/speech/IEMOCAP_full_release/Session5/...     ang      1.5   \n",
       "10036  /scratch/speech/IEMOCAP_full_release/Session5/...     ang      2.5   \n",
       "10037  /scratch/speech/IEMOCAP_full_release/Session5/...     ang      2.0   \n",
       "10038  /scratch/speech/IEMOCAP_full_release/Session5/...     ang      1.0   \n",
       "\n",
       "       activation  dominance  \n",
       "0             2.5        2.5  \n",
       "1             2.5        2.5  \n",
       "2             2.5        2.5  \n",
       "3             3.0        3.0  \n",
       "4             3.0        2.5  \n",
       "5             3.5        2.0  \n",
       "6             3.5        3.5  \n",
       "7             3.5        3.5  \n",
       "8             3.5        3.5  \n",
       "9             3.5        3.0  \n",
       "10            3.5        3.5  \n",
       "11            3.5        3.5  \n",
       "12            3.5        3.5  \n",
       "13            4.0        3.5  \n",
       "14            3.5        3.5  \n",
       "15            3.5        3.0  \n",
       "16            2.0        2.5  \n",
       "17            2.0        2.5  \n",
       "18            3.5        3.5  \n",
       "19            3.5        3.5  \n",
       "20            4.0        3.5  \n",
       "21            3.5        3.5  \n",
       "22            3.5        3.5  \n",
       "23            3.5        3.0  \n",
       "24            3.5        3.5  \n",
       "25            3.5        4.0  \n",
       "26            4.5        4.0  \n",
       "27            4.0        4.0  \n",
       "28            1.5        2.0  \n",
       "29            4.5        4.5  \n",
       "...           ...        ...  \n",
       "10009         3.5        4.5  \n",
       "10010         3.5        3.0  \n",
       "10011         3.5        3.5  \n",
       "10012         3.5        3.5  \n",
       "10013         3.0        3.5  \n",
       "10014         3.5        4.5  \n",
       "10015         3.5        4.0  \n",
       "10016         3.5        4.5  \n",
       "10017         3.0        5.0  \n",
       "10018         3.0        3.0  \n",
       "10019         3.5        4.0  \n",
       "10020         3.5        4.0  \n",
       "10021         4.5        4.5  \n",
       "10022         3.5        3.5  \n",
       "10023         4.5        4.5  \n",
       "10024         4.0        4.5  \n",
       "10025         5.0        4.5  \n",
       "10026         3.5        4.5  \n",
       "10027         3.0        4.5  \n",
       "10028         3.0        3.5  \n",
       "10029         3.0        3.5  \n",
       "10030         3.5        4.0  \n",
       "10031         2.5        3.5  \n",
       "10032         4.0        4.5  \n",
       "10033         4.0        4.5  \n",
       "10034         3.5        4.0  \n",
       "10035         4.5        4.0  \n",
       "10036         4.0        4.0  \n",
       "10037         4.0        4.5  \n",
       "10038         4.5        5.0  \n",
       "\n",
       "[10039 rows x 5 columns]"
      ]
     },
     "execution_count": 42,
     "metadata": {},
     "output_type": "execute_result"
    }
   ],
   "source": [
    "# Read the audio_path_labels.csv file that is created by the label_extraction.py program\n",
    "df = pd.read_csv('audio_paths_labels.csv')\n",
    "df"
   ]
  },
  {
   "cell_type": "code",
   "execution_count": 6,
   "metadata": {},
   "outputs": [
    {
     "data": {
      "text/plain": [
       "xxx    2507\n",
       "fru    1849\n",
       "neu    1708\n",
       "ang    1103\n",
       "sad    1084\n",
       "exc    1041\n",
       "hap     595\n",
       "sur     107\n",
       "fea      40\n",
       "oth       3\n",
       "dis       2\n",
       "Name: emotion, dtype: int64"
      ]
     },
     "execution_count": 6,
     "metadata": {},
     "output_type": "execute_result"
    }
   ],
   "source": [
    "# Get value counts of the different 'ground truth' emotion labels in the data set\n",
    "df['emotion'].value_counts()"
   ]
  },
  {
   "cell_type": "code",
   "execution_count": 11,
   "metadata": {},
   "outputs": [
    {
     "data": {
      "text/plain": [
       "<matplotlib.axes._subplots.AxesSubplot at 0x1fbb2a0cf60>"
      ]
     },
     "execution_count": 11,
     "metadata": {},
     "output_type": "execute_result"
    },
    {
     "data": {
      "image/png": "[encoded data removed]",
      "text/plain": [
       "<Figure size 432x288 with 1 Axes>"
      ]
     },
     "metadata": {
      "needs_background": "light"
     },
     "output_type": "display_data"
    }
   ],
   "source": [
    "sns.countplot(x='emotion', data=df)"
   ]
  },
  {
   "cell_type": "code",
   "execution_count": 40,
   "metadata": {},
   "outputs": [
    {
     "data": {
      "text/plain": [
       "<matplotlib.axes._subplots.AxesSubplot at 0x1fbb46db128>"
      ]
     },
     "execution_count": 40,
     "metadata": {},
     "output_type": "execute_result"
    },
    {
     "data": {
      "image/png": "[encoded data removed]",
      "text/plain": [
       "<Figure size 432x288 with 1 Axes>"
      ]
     },
     "metadata": {
      "needs_background": "light"
     },
     "output_type": "display_data"
    }
   ],
   "source": [
    "sns.distplot(df['valence'], kde=False, bins=100)"
   ]
  },
  {
   "cell_type": "code",
   "execution_count": 28,
   "metadata": {},
   "outputs": [
    {
     "data": {
      "text/plain": [
       "<matplotlib.axes._subplots.AxesSubplot at 0x1fbb41e1080>"
      ]
     },
     "execution_count": 28,
     "metadata": {},
     "output_type": "execute_result"
    },
    {
     "data": {
      "image/png": "[encoded data removed]",
      "text/plain": [
       "<Figure size 432x288 with 1 Axes>"
      ]
     },
     "metadata": {
      "needs_background": "light"
     },
     "output_type": "display_data"
    }
   ],
   "source": [
    "sns.distplot(df['activation'], kde=False, bins=8)"
   ]
  },
  {
   "cell_type": "code",
   "execution_count": 30,
   "metadata": {},
   "outputs": [
    {
     "data": {
      "text/plain": [
       "<matplotlib.axes._subplots.AxesSubplot at 0x1fbb4244c50>"
      ]
     },
     "execution_count": 30,
     "metadata": {},
     "output_type": "execute_result"
    },
    {
     "data": {
      "image/png": "[encoded data removed]",
      "text/plain": [
       "<Figure size 432x288 with 1 Axes>"
      ]
     },
     "metadata": {
      "needs_background": "light"
     },
     "output_type": "display_data"
    }
   ],
   "source": [
    "sns.distplot(df['dominance'], kde=False, bins=8)"
   ]
  },
  {
   "cell_type": "code",
   "execution_count": 33,
   "metadata": {},
   "outputs": [
    {
     "data": {
      "text/plain": [
       "5.5"
      ]
     },
     "execution_count": 33,
     "metadata": {},
     "output_type": "execute_result"
    }
   ],
   "source": [
    "max(df['valence'])"
   ]
  },
  {
   "cell_type": "code",
   "execution_count": 34,
   "metadata": {},
   "outputs": [
    {
     "data": {
      "text/plain": [
       "1.0"
      ]
     },
     "execution_count": 34,
     "metadata": {},
     "output_type": "execute_result"
    }
   ],
   "source": [
    "min(df['valence'])"
   ]
  },
  {
   "cell_type": "code",
   "execution_count": 35,
   "metadata": {},
   "outputs": [
    {
     "data": {
      "text/plain": [
       "5.0"
      ]
     },
     "execution_count": 35,
     "metadata": {},
     "output_type": "execute_result"
    }
   ],
   "source": [
    "max(df['activation'])"
   ]
  },
  {
   "cell_type": "code",
   "execution_count": 36,
   "metadata": {},
   "outputs": [
    {
     "data": {
      "text/plain": [
       "1.0"
      ]
     },
     "execution_count": 36,
     "metadata": {},
     "output_type": "execute_result"
    }
   ],
   "source": [
    "min(df['activation'])"
   ]
  },
  {
   "cell_type": "code",
   "execution_count": 37,
   "metadata": {},
   "outputs": [
    {
     "data": {
      "text/plain": [
       "1.9057124206708973"
      ]
     },
     "execution_count": 37,
     "metadata": {},
     "output_type": "execute_result"
    }
   ],
   "source": [
    "df[df['emotion']=='ang']['valence'].mean()"
   ]
  },
  {
   "cell_type": "code",
   "execution_count": 38,
   "metadata": {},
   "outputs": [
    {
     "data": {
      "text/plain": [
       "3.9512601680672264"
      ]
     },
     "execution_count": 38,
     "metadata": {},
     "output_type": "execute_result"
    }
   ],
   "source": [
    "df[df['emotion']=='hap']['valence'].mean()"
   ]
  },
  {
   "cell_type": "code",
   "execution_count": 39,
   "metadata": {},
   "outputs": [],
   "source": [
    "main_categories = ['neu', 'ang', 'fru', 'sad', 'exc', 'hap']"
   ]
  },
  {
   "cell_type": "code",
   "execution_count": null,
   "metadata": {},
   "outputs": [],
   "source": []
  }
 ],
 "metadata": {
  "kernelspec": {
   "display_name": "Python 3",
   "language": "python",
   "name": "python3"
  },
  "language_info": {
   "codemirror_mode": {
    "name": "ipython",
    "version": 3
   },
   "file_extension": ".py",
   "mimetype": "text/x-python",
   "name": "python",
   "nbconvert_exporter": "python",
   "pygments_lexer": "ipython3",
   "version": "3.7.3"
  }
 },
 "nbformat": 4,
 "nbformat_minor": 2
}
